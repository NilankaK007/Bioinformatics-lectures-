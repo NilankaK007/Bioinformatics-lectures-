{
 "cells": [
  {
   "cell_type": "code",
   "execution_count": 1,
   "id": "509c04da",
   "metadata": {},
   "outputs": [
    {
     "name": "stdout",
     "output_type": "stream",
     "text": [
      "Enter number1: 4\n",
      "Enter number2: 8\n",
      "*\n",
      "Multiplication:  32\n"
     ]
    }
   ],
   "source": [
    "#Calculate the multiplication or sum of two numbers\n",
    "n1=int(input(\"Enter number1: \"))\n",
    "n2=int(input(\"Enter number2: \"))\n",
    "operation=input()\n",
    "if operation==\"+\":\n",
    "    print(\"Sum: \",(n1+n2))\n",
    "elif operation==\"*\":\n",
    "    print(\"Multiplication: \",(n1*n2))"
   ]
  },
  {
   "cell_type": "code",
   "execution_count": null,
   "id": "0c1079d7",
   "metadata": {},
   "outputs": [],
   "source": [
    "#given two integer numbers, write a python program to return their product only if the product is equal to or lower than 1000,\n",
    "#otherwise return there sum"
   ]
  },
  {
   "cell_type": "code",
   "execution_count": 5,
   "id": "9deb571c",
   "metadata": {},
   "outputs": [
    {
     "name": "stdout",
     "output_type": "stream",
     "text": [
      "Enter number1: 456\n",
      "Enter number2: 4\n",
      "Sum: 460\n"
     ]
    }
   ],
   "source": [
    "n1=int(input(\"Enter number1: \"))\n",
    "n2=int(input(\"Enter number2: \"))\n",
    "product=n1*n2\n",
    "if product<=1000:\n",
    "    print(product)\n",
    "else:\n",
    "    print(\"Sum:\",n1+n2)"
   ]
  },
  {
   "cell_type": "code",
   "execution_count": null,
   "id": "63465110",
   "metadata": {},
   "outputs": [],
   "source": [
    "#write a pyhton program that takes an integer input from the user and prints whether the number is even or odd"
   ]
  },
  {
   "cell_type": "code",
   "execution_count": 7,
   "id": "c15d07c6",
   "metadata": {},
   "outputs": [
    {
     "name": "stdout",
     "output_type": "stream",
     "text": [
      "Input:23\n",
      "Odd\n"
     ]
    }
   ],
   "source": [
    "n=int(input(\"Input:\"))\n",
    "if n%2==0:\n",
    "    print(\"Even\")\n",
    "else:\n",
    "    print(\"Odd\")"
   ]
  },
  {
   "cell_type": "code",
   "execution_count": null,
   "id": "a2806104",
   "metadata": {},
   "outputs": [],
   "source": [
    "#find the average of alist of numbers"
   ]
  },
  {
   "cell_type": "code",
   "execution_count": 10,
   "id": "021e4c11",
   "metadata": {},
   "outputs": [
    {
     "name": "stdout",
     "output_type": "stream",
     "text": [
      "5\n",
      "5\n",
      "4\n",
      "2\n",
      "6\n",
      "8\n",
      "Average:  5.0\n"
     ]
    }
   ],
   "source": [
    "num=[5,5,4,2,6,8]\n",
    "sum=0\n",
    "for i in num:\n",
    "    print(i)\n",
    "    sum=sum+i\n",
    "average=sum/len(num)\n",
    "print(\"Average: \",average)"
   ]
  },
  {
   "cell_type": "code",
   "execution_count": null,
   "id": "ff51d845",
   "metadata": {},
   "outputs": [],
   "source": [
    "#count Vowels in a string"
   ]
  },
  {
   "cell_type": "code",
   "execution_count": 18,
   "id": "c89c3397",
   "metadata": {},
   "outputs": [
    {
     "name": "stdout",
     "output_type": "stream",
     "text": [
      "a\n",
      "p\n",
      "p\n",
      "l\n",
      "e\n",
      "Number of Vowels:  2\n"
     ]
    }
   ],
   "source": [
    "letters=\"apple\"\n",
    "count=0\n",
    "for i in letters:\n",
    "    print(i)\n",
    "    if i=='a':\n",
    "        count+=1\n",
    "    elif i=='e':\n",
    "        count+=1\n",
    "    elif i=='i':\n",
    "        count+=1\n",
    "    elif i=='o':\n",
    "        count+=1\n",
    "    elif i=='u':\n",
    "        count+=1\n",
    "print(\"Number of Vowels: \",count)"
   ]
  },
  {
   "cell_type": "code",
   "execution_count": null,
   "id": "d5f67d76",
   "metadata": {},
   "outputs": [],
   "source": [
    "#Generate fibonacci series"
   ]
  },
  {
   "cell_type": "code",
   "execution_count": 19,
   "id": "1edcfae1",
   "metadata": {},
   "outputs": [
    {
     "name": "stdout",
     "output_type": "stream",
     "text": [
      "Number: 8\n",
      "0\n",
      "1\n",
      "1  \n",
      "2  \n",
      "3  \n",
      "5  \n",
      "8  \n",
      "13  \n",
      "21  \n",
      "34  \n"
     ]
    }
   ],
   "source": [
    "n=int(input(\"Number: \"))\n",
    "f1=0\n",
    "f2=1\n",
    "print(f1)\n",
    "print(f2)\n",
    "for i in range(0,n):\n",
    "    fib=f1+f2\n",
    "    print(fib,\" \")\n",
    "    f1=f2\n",
    "    f2=fib\n",
    "    "
   ]
  },
  {
   "cell_type": "code",
   "execution_count": null,
   "id": "18b57617",
   "metadata": {},
   "outputs": [],
   "source": [
    "#Check if a Number is prime"
   ]
  },
  {
   "cell_type": "code",
   "execution_count": 23,
   "id": "14806b04",
   "metadata": {},
   "outputs": [
    {
     "name": "stdout",
     "output_type": "stream",
     "text": [
      "Number:6\n",
      "It's not a prime.\n"
     ]
    }
   ],
   "source": [
    "n=int(input(\"Number:\"))\n",
    "prime=True\n",
    "for i in range(2,n):\n",
    "    if(n%i==0):\n",
    "        prime=False\n",
    "        break\n",
    "if prime:\n",
    "    print(\"It's a prime.\")\n",
    "else:\n",
    "     print(\"It's not a prime.\")\n",
    "      \n",
    "    "
   ]
  },
  {
   "cell_type": "code",
   "execution_count": null,
   "id": "2151a420",
   "metadata": {},
   "outputs": [],
   "source": [
    "#Convert Celsius to fahrenheit\n"
   ]
  },
  {
   "cell_type": "code",
   "execution_count": 24,
   "id": "7a6b8050",
   "metadata": {},
   "outputs": [
    {
     "name": "stdout",
     "output_type": "stream",
     "text": [
      "Celsius:37\n",
      "Fahrenheit:  98.60000000000001\n"
     ]
    }
   ],
   "source": [
    "n=float(input(\"Celsius:\"))\n",
    "fh=(n*1.8)+32\n",
    "print(\"Fahrenheit: \",fh)"
   ]
  },
  {
   "cell_type": "code",
   "execution_count": 1,
   "id": "9a5d5fdf",
   "metadata": {},
   "outputs": [
    {
     "name": "stdout",
     "output_type": "stream",
     "text": [
      "Number:5\n",
      "*\n",
      "**\n",
      "***\n",
      "****\n"
     ]
    }
   ],
   "source": [
    "n=int(input(\"Number:\"))\n",
    "for i in range(1,n):\n",
    "   print('*'*i)"
   ]
  },
  {
   "cell_type": "code",
   "execution_count": 11,
   "id": "7524de25",
   "metadata": {},
   "outputs": [
    {
     "name": "stdout",
     "output_type": "stream",
     "text": [
      "Number:5\n",
      "*****\n",
      "****\n",
      "***\n",
      "**\n",
      "*\n"
     ]
    }
   ],
   "source": [
    "n=int(input(\"Number:\"))\n",
    "for i in range(n,0,-1):\n",
    "    print('*'*i)\n",
    "    "
   ]
  },
  {
   "cell_type": "code",
   "execution_count": null,
   "id": "370fae49",
   "metadata": {},
   "outputs": [],
   "source": []
  }
 ],
 "metadata": {
  "kernelspec": {
   "display_name": "Python 3 (ipykernel)",
   "language": "python",
   "name": "python3"
  },
  "language_info": {
   "codemirror_mode": {
    "name": "ipython",
    "version": 3
   },
   "file_extension": ".py",
   "mimetype": "text/x-python",
   "name": "python",
   "nbconvert_exporter": "python",
   "pygments_lexer": "ipython3",
   "version": "3.9.13"
  }
 },
 "nbformat": 4,
 "nbformat_minor": 5
}
