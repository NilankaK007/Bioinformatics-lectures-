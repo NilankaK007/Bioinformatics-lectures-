{
 "cells": [
  {
   "cell_type": "code",
   "execution_count": null,
   "id": "bcc0d18b",
   "metadata": {},
   "outputs": [],
   "source": []
  },
  {
   "cell_type": "code",
   "execution_count": 12,
   "id": "0af65c99",
   "metadata": {},
   "outputs": [
    {
     "name": "stdout",
     "output_type": "stream",
     "text": [
      "Enter number:10\n",
      "          \n",
      "         * \n",
      "        * * \n",
      "       * * * \n",
      "      * * * * \n",
      "     * * * * * \n",
      "    * * * * * * \n",
      "   * * * * * * * \n",
      "  * * * * * * * * \n",
      " * * * * * * * * * \n"
     ]
    }
   ],
   "source": [
    "n=int(input(\"Enter number:\"))\n",
    "for i in range (n):\n",
    "    print((' '*(n-i))+('* '*i))\n",
    "    \n"
   ]
  },
  {
   "cell_type": "code",
   "execution_count": 19,
   "id": "40b7f143",
   "metadata": {},
   "outputs": [
    {
     "name": "stdout",
     "output_type": "stream",
     "text": [
      "1 2 3 4 5 6 7 8 9 10 11 12 \n",
      "2 4 6 8 10 12 14 16 18 20 22 24 \n",
      "3 6 9 12 15 18 21 24 27 30 33 36 \n",
      "4 8 12 16 20 24 28 32 36 40 44 48 \n",
      "5 10 15 20 25 30 35 40 45 50 55 60 \n",
      "6 12 18 24 30 36 42 48 54 60 66 72 \n",
      "7 14 21 28 35 42 49 56 63 70 77 84 \n",
      "8 16 24 32 40 48 56 64 72 80 88 96 \n",
      "9 18 27 36 45 54 63 72 81 90 99 108 \n",
      "10 20 30 40 50 60 70 80 90 100 110 120 \n",
      "11 22 33 44 55 66 77 88 99 110 121 132 \n",
      "12 24 36 48 60 72 84 96 108 120 132 144 \n"
     ]
    }
   ],
   "source": [
    "#print multiplication table\n",
    "for i in range (1,13):\n",
    "    for j in range (1,13):\n",
    "        print(i*j,end=\" \")\n",
    "    print()\n"
   ]
  },
  {
   "cell_type": "code",
   "execution_count": 28,
   "id": "60c32ef1",
   "metadata": {},
   "outputs": [
    {
     "name": "stdout",
     "output_type": "stream",
     "text": [
      "Number of A:  4\n",
      "Number of G:  4\n",
      "Number of T:  4\n",
      "Number of C:  3\n"
     ]
    }
   ],
   "source": [
    "#count the number of A,T,G,C nucleotides in this DNA=\"ATGCGATACGCTTGA\" SEQUENCE\n",
    "nucleotides='ATGCGATACGCTTGA'\n",
    "A_count=0\n",
    "G_count=0\n",
    "T_count=0\n",
    "C_count=0\n",
    "for i in nucleotides:\n",
    "    if i=='A':\n",
    "        A_count+=1\n",
    "    elif i=='G':\n",
    "        G_count+=1\n",
    "    elif i=='T':\n",
    "        T_count+=1\n",
    "    elif i=='C':\n",
    "        C_count+=1\n",
    "print(\"Number of A: \" ,A_count)\n",
    "print(\"Number of G: \" ,G_count)\n",
    "print(\"Number of T: \" ,T_count)\n",
    "print(\"Number of C: \" ,C_count)"
   ]
  },
  {
   "cell_type": "code",
   "execution_count": null,
   "id": "76c294c3",
   "metadata": {},
   "outputs": [],
   "source": []
  }
 ],
 "metadata": {
  "kernelspec": {
   "display_name": "Python 3 (ipykernel)",
   "language": "python",
   "name": "python3"
  },
  "language_info": {
   "codemirror_mode": {
    "name": "ipython",
    "version": 3
   },
   "file_extension": ".py",
   "mimetype": "text/x-python",
   "name": "python",
   "nbconvert_exporter": "python",
   "pygments_lexer": "ipython3",
   "version": "3.9.13"
  }
 },
 "nbformat": 4,
 "nbformat_minor": 5
}
