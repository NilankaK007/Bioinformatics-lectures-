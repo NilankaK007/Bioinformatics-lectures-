{
 "cells": [
  {
   "cell_type": "code",
   "execution_count": 3,
   "id": "95d6a685",
   "metadata": {},
   "outputs": [
    {
     "data": {
      "text/plain": [
       "0    1\n",
       "1    2\n",
       "2    3\n",
       "dtype: int64"
      ]
     },
     "execution_count": 3,
     "metadata": {},
     "output_type": "execute_result"
    }
   ],
   "source": [
    "import pandas as pd\n",
    "s1=pd.Series([1,2,3])\n",
    "s1"
   ]
  },
  {
   "cell_type": "code",
   "execution_count": 4,
   "id": "1999a887",
   "metadata": {},
   "outputs": [
    {
     "data": {
      "text/plain": [
       "a    1\n",
       "b    2\n",
       "c    3\n",
       "dtype: int64"
      ]
     },
     "execution_count": 4,
     "metadata": {},
     "output_type": "execute_result"
    }
   ],
   "source": [
    "s2=pd.Series([1,2,3],index=['a','b','c'])\n",
    "s2"
   ]
  },
  {
   "cell_type": "code",
   "execution_count": 5,
   "id": "6a9cfb5b",
   "metadata": {},
   "outputs": [
    {
     "data": {
      "text/html": [
       "<div>\n",
       "<style scoped>\n",
       "    .dataframe tbody tr th:only-of-type {\n",
       "        vertical-align: middle;\n",
       "    }\n",
       "\n",
       "    .dataframe tbody tr th {\n",
       "        vertical-align: top;\n",
       "    }\n",
       "\n",
       "    .dataframe thead th {\n",
       "        text-align: right;\n",
       "    }\n",
       "</style>\n",
       "<table border=\"1\" class=\"dataframe\">\n",
       "  <thead>\n",
       "    <tr style=\"text-align: right;\">\n",
       "      <th></th>\n",
       "      <th>Name</th>\n",
       "      <th>Age</th>\n",
       "    </tr>\n",
       "  </thead>\n",
       "  <tbody>\n",
       "    <tr>\n",
       "      <th>0</th>\n",
       "      <td>Alice</td>\n",
       "      <td>25</td>\n",
       "    </tr>\n",
       "    <tr>\n",
       "      <th>1</th>\n",
       "      <td>Bob</td>\n",
       "      <td>30</td>\n",
       "    </tr>\n",
       "    <tr>\n",
       "      <th>2</th>\n",
       "      <td>Nimal</td>\n",
       "      <td>24</td>\n",
       "    </tr>\n",
       "  </tbody>\n",
       "</table>\n",
       "</div>"
      ],
      "text/plain": [
       "    Name  Age\n",
       "0  Alice   25\n",
       "1    Bob   30\n",
       "2  Nimal   24"
      ]
     },
     "execution_count": 5,
     "metadata": {},
     "output_type": "execute_result"
    }
   ],
   "source": [
    "data={'Name':['Alice','Bob','Nimal'],'Age':[25,30,24]}\n",
    "df=pd.DataFrame(data)\n",
    "df"
   ]
  },
  {
   "cell_type": "code",
   "execution_count": 8,
   "id": "cd9554f4",
   "metadata": {},
   "outputs": [
    {
     "data": {
      "text/html": [
       "<div>\n",
       "<style scoped>\n",
       "    .dataframe tbody tr th:only-of-type {\n",
       "        vertical-align: middle;\n",
       "    }\n",
       "\n",
       "    .dataframe tbody tr th {\n",
       "        vertical-align: top;\n",
       "    }\n",
       "\n",
       "    .dataframe thead th {\n",
       "        text-align: right;\n",
       "    }\n",
       "</style>\n",
       "<table border=\"1\" class=\"dataframe\">\n",
       "  <thead>\n",
       "    <tr style=\"text-align: right;\">\n",
       "      <th></th>\n",
       "      <th>column_a</th>\n",
       "      <th>column_b</th>\n",
       "      <th>column_c</th>\n",
       "    </tr>\n",
       "  </thead>\n",
       "  <tbody>\n",
       "    <tr>\n",
       "      <th>row1</th>\n",
       "      <td>1</td>\n",
       "      <td>2</td>\n",
       "      <td>3</td>\n",
       "    </tr>\n",
       "    <tr>\n",
       "      <th>row2</th>\n",
       "      <td>10</td>\n",
       "      <td>20</td>\n",
       "      <td>30</td>\n",
       "    </tr>\n",
       "  </tbody>\n",
       "</table>\n",
       "</div>"
      ],
      "text/plain": [
       "      column_a  column_b  column_c\n",
       "row1         1         2         3\n",
       "row2        10        20        30"
      ]
     },
     "execution_count": 8,
     "metadata": {},
     "output_type": "execute_result"
    }
   ],
   "source": [
    "list_of_dicts=[{'column_a':1,'column_b':2,'column_c':3},\n",
    "              {'column_a':10,'column_b':20,'column_c':30}]\n",
    "df=pd.DataFrame(list_of_dicts,index=['row1','row2'])\n",
    "df"
   ]
  },
  {
   "cell_type": "code",
   "execution_count": 9,
   "id": "71bc0256",
   "metadata": {},
   "outputs": [
    {
     "data": {
      "text/html": [
       "<div>\n",
       "<style scoped>\n",
       "    .dataframe tbody tr th:only-of-type {\n",
       "        vertical-align: middle;\n",
       "    }\n",
       "\n",
       "    .dataframe tbody tr th {\n",
       "        vertical-align: top;\n",
       "    }\n",
       "\n",
       "    .dataframe thead th {\n",
       "        text-align: right;\n",
       "    }\n",
       "</style>\n",
       "<table border=\"1\" class=\"dataframe\">\n",
       "  <thead>\n",
       "    <tr style=\"text-align: right;\">\n",
       "      <th></th>\n",
       "      <th>Date</th>\n",
       "      <th>Month</th>\n",
       "      <th>Year</th>\n",
       "    </tr>\n",
       "  </thead>\n",
       "  <tbody>\n",
       "    <tr>\n",
       "      <th>0</th>\n",
       "      <td>8</td>\n",
       "      <td>August</td>\n",
       "      <td>1998</td>\n",
       "    </tr>\n",
       "    <tr>\n",
       "      <th>1</th>\n",
       "      <td>2</td>\n",
       "      <td>January</td>\n",
       "      <td>1987</td>\n",
       "    </tr>\n",
       "    <tr>\n",
       "      <th>2</th>\n",
       "      <td>17</td>\n",
       "      <td>July</td>\n",
       "      <td>2021</td>\n",
       "    </tr>\n",
       "    <tr>\n",
       "      <th>3</th>\n",
       "      <td>12</td>\n",
       "      <td>February</td>\n",
       "      <td>2001</td>\n",
       "    </tr>\n",
       "  </tbody>\n",
       "</table>\n",
       "</div>"
      ],
      "text/plain": [
       "   Date     Month  Year\n",
       "0     8    August  1998\n",
       "1     2   January  1987\n",
       "2    17      July  2021\n",
       "3    12  February  2001"
      ]
     },
     "execution_count": 9,
     "metadata": {},
     "output_type": "execute_result"
    }
   ],
   "source": [
    "list_of_tuples=[(8,'August',1998),(2,'January',1987),\n",
    "               (17,'July',2021),(12,'February',2001)]\n",
    "df=pd.DataFrame(list_of_tuples,columns=['Date','Month','Year'])\n",
    "df"
   ]
  },
  {
   "cell_type": "code",
   "execution_count": 11,
   "id": "82bd0499",
   "metadata": {},
   "outputs": [
    {
     "data": {
      "text/html": [
       "<div>\n",
       "<style scoped>\n",
       "    .dataframe tbody tr th:only-of-type {\n",
       "        vertical-align: middle;\n",
       "    }\n",
       "\n",
       "    .dataframe tbody tr th {\n",
       "        vertical-align: top;\n",
       "    }\n",
       "\n",
       "    .dataframe thead th {\n",
       "        text-align: right;\n",
       "    }\n",
       "</style>\n",
       "<table border=\"1\" class=\"dataframe\">\n",
       "  <thead>\n",
       "    <tr style=\"text-align: right;\">\n",
       "      <th></th>\n",
       "      <th>Name</th>\n",
       "      <th>Age</th>\n",
       "    </tr>\n",
       "  </thead>\n",
       "  <tbody>\n",
       "    <tr>\n",
       "      <th>0</th>\n",
       "      <td>Alan</td>\n",
       "      <td>24</td>\n",
       "    </tr>\n",
       "    <tr>\n",
       "      <th>1</th>\n",
       "      <td>Vivian</td>\n",
       "      <td>67</td>\n",
       "    </tr>\n",
       "    <tr>\n",
       "      <th>2</th>\n",
       "      <td>Alister</td>\n",
       "      <td>43</td>\n",
       "    </tr>\n",
       "    <tr>\n",
       "      <th>3</th>\n",
       "      <td>Jade</td>\n",
       "      <td>12</td>\n",
       "    </tr>\n",
       "  </tbody>\n",
       "</table>\n",
       "</div>"
      ],
      "text/plain": [
       "      Name  Age\n",
       "0     Alan   24\n",
       "1   Vivian   67\n",
       "2  Alister   43\n",
       "3     Jade   12"
      ]
     },
     "execution_count": 11,
     "metadata": {},
     "output_type": "execute_result"
    }
   ],
   "source": [
    "students=['Alan','Vivian','Alister','Jade']\n",
    "age=[24,67,43,12]\n",
    "list_of_tuples=list(zip(students,age))\n",
    "df=pd.DataFrame(list_of_tuples,columns=['Name','Age'])\n",
    "df"
   ]
  },
  {
   "cell_type": "code",
   "execution_count": 16,
   "id": "fe2eaf21",
   "metadata": {},
   "outputs": [
    {
     "name": "stdout",
     "output_type": "stream",
     "text": [
      "      Name  Age\n",
      "0     Alan   24\n",
      "1   Vivian   67\n",
      "2  Alister   43\n",
      "3     Jade   12\n",
      "########\n",
      "<class 'pandas.core.frame.DataFrame'>\n",
      "RangeIndex: 4 entries, 0 to 3\n",
      "Data columns (total 2 columns):\n",
      " #   Column  Non-Null Count  Dtype \n",
      "---  ------  --------------  ----- \n",
      " 0   Name    4 non-null      object\n",
      " 1   Age     4 non-null      int64 \n",
      "dtypes: int64(1), object(1)\n",
      "memory usage: 192.0+ bytes\n",
      "None\n",
      "########\n",
      "(4, 2)\n",
      "########\n",
      "             Age\n",
      "count   4.000000\n",
      "mean   36.500000\n",
      "std    24.006943\n",
      "min    12.000000\n",
      "25%    21.000000\n",
      "50%    33.500000\n",
      "75%    49.000000\n",
      "max    67.000000\n",
      "########\n",
      "Index(['Name', 'Age'], dtype='object')\n",
      "########\n",
      "RangeIndex(start=0, stop=4, step=1)\n",
      "########\n",
      "[['Alan' 24]\n",
      " ['Vivian' 67]\n",
      " ['Alister' 43]\n",
      " ['Jade' 12]]\n"
     ]
    }
   ],
   "source": [
    "print(df.head())\n",
    "print('########')\n",
    "print(df.info())\n",
    "print('########')\n",
    "print(df.shape)\n",
    "print('########')\n",
    "print(df.describe())\n",
    "print('########')\n",
    "print(df.columns)\n",
    "print('########')\n",
    "print(df.index)\n",
    "print('########')\n",
    "print(df.values)"
   ]
  },
  {
   "cell_type": "code",
   "execution_count": 17,
   "id": "5f6401c4",
   "metadata": {},
   "outputs": [
    {
     "data": {
      "text/html": [
       "<div>\n",
       "<style scoped>\n",
       "    .dataframe tbody tr th:only-of-type {\n",
       "        vertical-align: middle;\n",
       "    }\n",
       "\n",
       "    .dataframe tbody tr th {\n",
       "        vertical-align: top;\n",
       "    }\n",
       "\n",
       "    .dataframe thead th {\n",
       "        text-align: right;\n",
       "    }\n",
       "</style>\n",
       "<table border=\"1\" class=\"dataframe\">\n",
       "  <thead>\n",
       "    <tr style=\"text-align: right;\">\n",
       "      <th></th>\n",
       "      <th>Name</th>\n",
       "      <th>Age</th>\n",
       "      <th>Score</th>\n",
       "      <th>City</th>\n",
       "    </tr>\n",
       "  </thead>\n",
       "  <tbody>\n",
       "    <tr>\n",
       "      <th>0</th>\n",
       "      <td>Alice</td>\n",
       "      <td>25</td>\n",
       "      <td>85</td>\n",
       "      <td>New York</td>\n",
       "    </tr>\n",
       "    <tr>\n",
       "      <th>1</th>\n",
       "      <td>Bob</td>\n",
       "      <td>30</td>\n",
       "      <td>70</td>\n",
       "      <td>Los Angeles</td>\n",
       "    </tr>\n",
       "    <tr>\n",
       "      <th>2</th>\n",
       "      <td>Charlie</td>\n",
       "      <td>22</td>\n",
       "      <td>90</td>\n",
       "      <td>Frankfurt</td>\n",
       "    </tr>\n",
       "    <tr>\n",
       "      <th>3</th>\n",
       "      <td>David</td>\n",
       "      <td>28</td>\n",
       "      <td>80</td>\n",
       "      <td>London</td>\n",
       "    </tr>\n",
       "    <tr>\n",
       "      <th>4</th>\n",
       "      <td>Karl</td>\n",
       "      <td>19</td>\n",
       "      <td>75</td>\n",
       "      <td>Oslo</td>\n",
       "    </tr>\n",
       "    <tr>\n",
       "      <th>5</th>\n",
       "      <td>Amile</td>\n",
       "      <td>22</td>\n",
       "      <td>77</td>\n",
       "      <td>Barcelona</td>\n",
       "    </tr>\n",
       "    <tr>\n",
       "      <th>6</th>\n",
       "      <td>Daminan</td>\n",
       "      <td>27</td>\n",
       "      <td>82</td>\n",
       "      <td>Frankfurt</td>\n",
       "    </tr>\n",
       "  </tbody>\n",
       "</table>\n",
       "</div>"
      ],
      "text/plain": [
       "      Name  Age  Score         City\n",
       "0    Alice   25     85     New York\n",
       "1      Bob   30     70  Los Angeles\n",
       "2  Charlie   22     90    Frankfurt\n",
       "3    David   28     80       London\n",
       "4     Karl   19     75         Oslo\n",
       "5    Amile   22     77    Barcelona\n",
       "6  Daminan   27     82    Frankfurt"
      ]
     },
     "execution_count": 17,
     "metadata": {},
     "output_type": "execute_result"
    }
   ],
   "source": [
    "list_of_data=[('Alice',25,85,'New York'),('Bob',30,70,'Los Angeles'),\n",
    "             ('Charlie',22,90,'Frankfurt'),('David',28,80,'London'),\n",
    "             ('Karl',19,75,'Oslo'),('Amile',22,77,'Barcelona'),(\"Daminan\",27,82,'Frankfurt')]\n",
    "df=pd.DataFrame(list_of_data,columns=['Name','Age','Score','City'])\n",
    "df"
   ]
  },
  {
   "cell_type": "code",
   "execution_count": 20,
   "id": "9d1b5816",
   "metadata": {},
   "outputs": [
    {
     "name": "stdout",
     "output_type": "stream",
     "text": [
      "0      Alice\n",
      "1        Bob\n",
      "2    Charlie\n",
      "3      David\n",
      "4       Karl\n",
      "5      Amile\n",
      "6    Daminan\n",
      "Name: Name, dtype: object\n",
      "      Name  Score\n",
      "0    Alice     85\n",
      "1      Bob     70\n",
      "2  Charlie     90\n",
      "3    David     80\n",
      "4     Karl     75\n",
      "5    Amile     77\n",
      "6  Daminan     82\n"
     ]
    }
   ],
   "source": [
    "selected_data1=df['Name']\n",
    "print(selected_data1)\n",
    "selected_data2=df[['Name','Score']]\n",
    "print(selected_data2)"
   ]
  },
  {
   "cell_type": "code",
   "execution_count": 24,
   "id": "9b1e8ca9",
   "metadata": {},
   "outputs": [
    {
     "name": "stdout",
     "output_type": "stream",
     "text": [
      "    Name  Age  Score         City\n",
      "0  Alice   25     85     New York\n",
      "1    Bob   30     70  Los Angeles\n",
      "   Age  Score\n",
      "0   25     85\n",
      "1   30     70\n",
      "2   22     90\n",
      "3   28     80\n",
      "4   19     75\n",
      "5   22     77\n",
      "6   27     82\n"
     ]
    }
   ],
   "source": [
    "selected_df3=df[0:2]\n",
    "selected_df4=df.iloc[:,1:3]\n",
    "print(selected_df3)\n",
    "print(selected_df4)"
   ]
  },
  {
   "cell_type": "code",
   "execution_count": 25,
   "id": "c8ade085",
   "metadata": {},
   "outputs": [
    {
     "data": {
      "text/html": [
       "<div>\n",
       "<style scoped>\n",
       "    .dataframe tbody tr th:only-of-type {\n",
       "        vertical-align: middle;\n",
       "    }\n",
       "\n",
       "    .dataframe tbody tr th {\n",
       "        vertical-align: top;\n",
       "    }\n",
       "\n",
       "    .dataframe thead th {\n",
       "        text-align: right;\n",
       "    }\n",
       "</style>\n",
       "<table border=\"1\" class=\"dataframe\">\n",
       "  <thead>\n",
       "    <tr style=\"text-align: right;\">\n",
       "      <th></th>\n",
       "      <th>Name</th>\n",
       "      <th>City</th>\n",
       "    </tr>\n",
       "  </thead>\n",
       "  <tbody>\n",
       "    <tr>\n",
       "      <th>0</th>\n",
       "      <td>Alice</td>\n",
       "      <td>New York</td>\n",
       "    </tr>\n",
       "    <tr>\n",
       "      <th>1</th>\n",
       "      <td>Bob</td>\n",
       "      <td>Los Angeles</td>\n",
       "    </tr>\n",
       "    <tr>\n",
       "      <th>2</th>\n",
       "      <td>Charlie</td>\n",
       "      <td>Frankfurt</td>\n",
       "    </tr>\n",
       "    <tr>\n",
       "      <th>3</th>\n",
       "      <td>David</td>\n",
       "      <td>London</td>\n",
       "    </tr>\n",
       "    <tr>\n",
       "      <th>4</th>\n",
       "      <td>Karl</td>\n",
       "      <td>Oslo</td>\n",
       "    </tr>\n",
       "    <tr>\n",
       "      <th>5</th>\n",
       "      <td>Amile</td>\n",
       "      <td>Barcelona</td>\n",
       "    </tr>\n",
       "    <tr>\n",
       "      <th>6</th>\n",
       "      <td>Daminan</td>\n",
       "      <td>Frankfurt</td>\n",
       "    </tr>\n",
       "  </tbody>\n",
       "</table>\n",
       "</div>"
      ],
      "text/plain": [
       "      Name         City\n",
       "0    Alice     New York\n",
       "1      Bob  Los Angeles\n",
       "2  Charlie    Frankfurt\n",
       "3    David       London\n",
       "4     Karl         Oslo\n",
       "5    Amile    Barcelona\n",
       "6  Daminan    Frankfurt"
      ]
     },
     "execution_count": 25,
     "metadata": {},
     "output_type": "execute_result"
    }
   ],
   "source": [
    "selected_df5=df.loc[:,['Name','City']]\n",
    "selected_df5"
   ]
  },
  {
   "cell_type": "code",
   "execution_count": 28,
   "id": "71ab3508",
   "metadata": {},
   "outputs": [
    {
     "data": {
      "text/html": [
       "<div>\n",
       "<style scoped>\n",
       "    .dataframe tbody tr th:only-of-type {\n",
       "        vertical-align: middle;\n",
       "    }\n",
       "\n",
       "    .dataframe tbody tr th {\n",
       "        vertical-align: top;\n",
       "    }\n",
       "\n",
       "    .dataframe thead th {\n",
       "        text-align: right;\n",
       "    }\n",
       "</style>\n",
       "<table border=\"1\" class=\"dataframe\">\n",
       "  <thead>\n",
       "    <tr style=\"text-align: right;\">\n",
       "      <th></th>\n",
       "      <th>first_name</th>\n",
       "      <th>last_name</th>\n",
       "      <th>age</th>\n",
       "      <th>comedy_score</th>\n",
       "      <th>rating_score</th>\n",
       "    </tr>\n",
       "  </thead>\n",
       "  <tbody>\n",
       "    <tr>\n",
       "      <th>0</th>\n",
       "      <td>Sheldon</td>\n",
       "      <td>Copper</td>\n",
       "      <td>42</td>\n",
       "      <td>9</td>\n",
       "      <td>25</td>\n",
       "    </tr>\n",
       "    <tr>\n",
       "      <th>1</th>\n",
       "      <td>Raj</td>\n",
       "      <td>Koothrappali</td>\n",
       "      <td>38</td>\n",
       "      <td>7</td>\n",
       "      <td>25</td>\n",
       "    </tr>\n",
       "    <tr>\n",
       "      <th>2</th>\n",
       "      <td>Leonard</td>\n",
       "      <td>Hofstadter</td>\n",
       "      <td>36</td>\n",
       "      <td>8</td>\n",
       "      <td>49</td>\n",
       "    </tr>\n",
       "    <tr>\n",
       "      <th>3</th>\n",
       "      <td>Howard</td>\n",
       "      <td>Wolwitz</td>\n",
       "      <td>41</td>\n",
       "      <td>8</td>\n",
       "      <td>62</td>\n",
       "    </tr>\n",
       "    <tr>\n",
       "      <th>4</th>\n",
       "      <td>Amy</td>\n",
       "      <td>Fowler</td>\n",
       "      <td>35</td>\n",
       "      <td>5</td>\n",
       "      <td>70</td>\n",
       "    </tr>\n",
       "  </tbody>\n",
       "</table>\n",
       "</div>"
      ],
      "text/plain": [
       "  first_name     last_name  age  comedy_score  rating_score\n",
       "0    Sheldon        Copper   42             9            25\n",
       "1        Raj  Koothrappali   38             7            25\n",
       "2    Leonard    Hofstadter   36             8            49\n",
       "3     Howard       Wolwitz   41             8            62\n",
       "4        Amy        Fowler   35             5            70"
      ]
     },
     "execution_count": 28,
     "metadata": {},
     "output_type": "execute_result"
    }
   ],
   "source": [
    "raw_data={'first_name':['Sheldon','Raj','Leonard','Howard','Amy'],\n",
    "         'last_name':['Copper','Koothrappali','Hofstadter','Wolwitz','Fowler'],\n",
    "         'age':[42,38,36,41,35],\n",
    "         'comedy_score':[9,7,8,8,5],\n",
    "         'rating_score':[25,25,49,62,70]}\n",
    "df=pd.DataFrame(raw_data,columns=['first_name','last_name','age','comedy_score','rating_score'])\n",
    "df"
   ]
  },
  {
   "cell_type": "code",
   "execution_count": 31,
   "id": "d285ffde",
   "metadata": {},
   "outputs": [
    {
     "name": "stdout",
     "output_type": "stream",
     "text": [
      "  first_name     last_name  age  comedy_score  rating_score\n",
      "0    Sheldon        Copper   42             9            25\n",
      "3     Howard       Wolwitz   41             8            62\n",
      "1        Raj  Koothrappali   38             7            25\n",
      "2    Leonard    Hofstadter   36             8            49\n",
      "4        Amy        Fowler   35             5            70\n",
      "\n",
      "  first_name     last_name  age  comedy_score  rating_score\n",
      "4        Amy        Fowler   35             5            70\n",
      "2    Leonard    Hofstadter   36             8            49\n",
      "1        Raj  Koothrappali   38             7            25\n",
      "3     Howard       Wolwitz   41             8            62\n",
      "0    Sheldon        Copper   42             9            25\n",
      "\n",
      "  first_name     last_name  age  comedy_score  rating_score\n",
      "4        Amy        Fowler   35             5            70\n",
      "2    Leonard    Hofstadter   36             8            49\n",
      "1        Raj  Koothrappali   38             7            25\n",
      "3     Howard       Wolwitz   41             8            62\n",
      "0    Sheldon        Copper   42             9            25\n",
      "\n"
     ]
    }
   ],
   "source": [
    "print(df.sort_values(by='age',ascending=0))\n",
    "print()\n",
    "print(df.sort_values(by='age',ascending=1))\n",
    "print()\n",
    "print(df.sort_values(by=['age','comedy_score']))\n",
    "print()"
   ]
  },
  {
   "cell_type": "code",
   "execution_count": 33,
   "id": "08611141",
   "metadata": {},
   "outputs": [
    {
     "name": "stdout",
     "output_type": "stream",
     "text": [
      "<pandas.core.groupby.generic.DataFrameGroupBy object at 0x000001F8C17806D0>\n",
      "age\n",
      "35    1\n",
      "36    1\n",
      "38    1\n",
      "41    1\n",
      "42    1\n",
      "dtype: int64\n"
     ]
    }
   ],
   "source": [
    "group=df.groupby(['age'])\n",
    "print(group)\n",
    "print(group.size())"
   ]
  },
  {
   "cell_type": "code",
   "execution_count": 34,
   "id": "94236bb5",
   "metadata": {},
   "outputs": [
    {
     "name": "stdout",
     "output_type": "stream",
     "text": [
      "<pandas.core.groupby.generic.DataFrameGroupBy object at 0x000001F8C1780550>\n",
      "comedy_score  first_name\n",
      "5             Amy           1\n",
      "7             Raj           1\n",
      "8             Howard        1\n",
      "              Leonard       1\n",
      "9             Sheldon       1\n",
      "dtype: int64\n"
     ]
    }
   ],
   "source": [
    "group=df.groupby(['comedy_score','first_name'])\n",
    "print(group)\n",
    "print(group.size())"
   ]
  },
  {
   "cell_type": "code",
   "execution_count": 38,
   "id": "b56ab6b0",
   "metadata": {},
   "outputs": [
    {
     "name": "stdout",
     "output_type": "stream",
     "text": [
      "Index of largest value:\n",
      "0\n"
     ]
    }
   ],
   "source": [
    "print('Index of largest value:');print(df['age'].idxmax())\n",
    "print('Index of l value:');print(df['age'].idxmax())"
   ]
  },
  {
   "cell_type": "code",
   "execution_count": null,
   "id": "702da2cd",
   "metadata": {},
   "outputs": [],
   "source": []
  }
 ],
 "metadata": {
  "kernelspec": {
   "display_name": "Python 3 (ipykernel)",
   "language": "python",
   "name": "python3"
  },
  "language_info": {
   "codemirror_mode": {
    "name": "ipython",
    "version": 3
   },
   "file_extension": ".py",
   "mimetype": "text/x-python",
   "name": "python",
   "nbconvert_exporter": "python",
   "pygments_lexer": "ipython3",
   "version": "3.9.13"
  }
 },
 "nbformat": 4,
 "nbformat_minor": 5
}
